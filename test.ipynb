{
 "cells": [
  {
   "cell_type": "code",
   "execution_count": 23,
   "metadata": {},
   "outputs": [],
   "source": [
    "from PIL import Image\n",
    "import pandas as pd"
   ]
  },
  {
   "cell_type": "code",
   "execution_count": 9,
   "metadata": {},
   "outputs": [],
   "source": [
    "from pathlib import Path\n",
    "PATH = Path().parent\n",
    "ASSETS = PATH / \"assets\"\n",
    "DOCS = ASSETS / \"word\"\n",
    "TTD = ASSETS / \"ttd\""
   ]
  },
  {
   "cell_type": "code",
   "execution_count": 4,
   "metadata": {},
   "outputs": [],
   "source": [
    "import os\n",
    "from glob import glob"
   ]
  },
  {
   "cell_type": "code",
   "execution_count": 21,
   "metadata": {},
   "outputs": [],
   "source": [
    "def find_filename(name):\n",
    "    try:\n",
    "        name = glob(f'{TTD}/{name}.*')\n",
    "        print(name)\n",
    "        return name[0]\n",
    "    except:\n",
    "        return ValueError\n",
    "    \n",
    "def get_image(location):\n",
    "    print(location)\n",
    "    image = Image.open(os.path.join(location))\n",
    "    return image"
   ]
  },
  {
   "cell_type": "code",
   "execution_count": 24,
   "metadata": {},
   "outputs": [],
   "source": [
    "df = pd.read_excel('list-pegawai.xlsx', index_col=0)"
   ]
  },
  {
   "cell_type": "code",
   "execution_count": 25,
   "metadata": {},
   "outputs": [
    {
     "data": {
      "text/html": [
       "<div>\n",
       "<style scoped>\n",
       "    .dataframe tbody tr th:only-of-type {\n",
       "        vertical-align: middle;\n",
       "    }\n",
       "\n",
       "    .dataframe tbody tr th {\n",
       "        vertical-align: top;\n",
       "    }\n",
       "\n",
       "    .dataframe thead th {\n",
       "        text-align: right;\n",
       "    }\n",
       "</style>\n",
       "<table border=\"1\" class=\"dataframe\">\n",
       "  <thead>\n",
       "    <tr style=\"text-align: right;\">\n",
       "      <th></th>\n",
       "      <th>Nama</th>\n",
       "      <th>Nama File</th>\n",
       "      <th>NIP</th>\n",
       "    </tr>\n",
       "  </thead>\n",
       "  <tbody>\n",
       "    <tr>\n",
       "      <th>0</th>\n",
       "      <td>Ni Wayan Dertiari</td>\n",
       "      <td>Ni Wayan Dertiari</td>\n",
       "      <td>'196912241990032001</td>\n",
       "    </tr>\n",
       "    <tr>\n",
       "      <th>1</th>\n",
       "      <td>Tirtha Wijaya,  SP</td>\n",
       "      <td>Tirtha Wijaya</td>\n",
       "      <td>'197312051995031001</td>\n",
       "    </tr>\n",
       "    <tr>\n",
       "      <th>2</th>\n",
       "      <td>Ni Wayan Budhi Anggraeni,  ST.</td>\n",
       "      <td>Ni Wayan Budhi Anggraeni</td>\n",
       "      <td>'197804042008012032</td>\n",
       "    </tr>\n",
       "    <tr>\n",
       "      <th>3</th>\n",
       "      <td>Ni Putu Lia Cahyani,  SP</td>\n",
       "      <td>Ni Putu Lia Cahyani</td>\n",
       "      <td>'198503012007012003</td>\n",
       "    </tr>\n",
       "    <tr>\n",
       "      <th>4</th>\n",
       "      <td>I Wayan Wirata,  S.Tr</td>\n",
       "      <td>I Wayan Wirata</td>\n",
       "      <td>'199111062013121001</td>\n",
       "    </tr>\n",
       "    <tr>\n",
       "      <th>5</th>\n",
       "      <td>Kadek Setiya Wati,  S.Tr</td>\n",
       "      <td>Kadek Setiya Wati</td>\n",
       "      <td>'198906032010122002</td>\n",
       "    </tr>\n",
       "    <tr>\n",
       "      <th>6</th>\n",
       "      <td>Luh Eka Arisanti,  S.Si</td>\n",
       "      <td>Luh Eka Arisanti</td>\n",
       "      <td>'198909272010122001</td>\n",
       "    </tr>\n",
       "    <tr>\n",
       "      <th>7</th>\n",
       "      <td>Diana Hikmah,  S.Tr</td>\n",
       "      <td>Diana Hikmah</td>\n",
       "      <td>'199202132012102001</td>\n",
       "    </tr>\n",
       "    <tr>\n",
       "      <th>8</th>\n",
       "      <td>Putu Agus Dedy Permana,  S. Tr</td>\n",
       "      <td>Putu Agus Dedy Permana</td>\n",
       "      <td>'199308092013121001</td>\n",
       "    </tr>\n",
       "    <tr>\n",
       "      <th>9</th>\n",
       "      <td>I Wayan Gita Giriharta</td>\n",
       "      <td>I Wayan Gita Giriharta</td>\n",
       "      <td>'199604012016011001</td>\n",
       "    </tr>\n",
       "    <tr>\n",
       "      <th>10</th>\n",
       "      <td>I Gede Agus Mahendra</td>\n",
       "      <td>I Gede Agus Mahendra</td>\n",
       "      <td>'199304282013121001</td>\n",
       "    </tr>\n",
       "    <tr>\n",
       "      <th>11</th>\n",
       "      <td>I Gusti Ayu Putu Putri Astiduari,  S.Tr</td>\n",
       "      <td>I Gusti Ayu Putu Putri Astiduari</td>\n",
       "      <td>'199308182013121001</td>\n",
       "    </tr>\n",
       "    <tr>\n",
       "      <th>12</th>\n",
       "      <td>Wulan Wandarana,  S.Tr</td>\n",
       "      <td>Wulan Wandarana</td>\n",
       "      <td>'199505142014112001</td>\n",
       "    </tr>\n",
       "    <tr>\n",
       "      <th>13</th>\n",
       "      <td>Brian Eko Permadi</td>\n",
       "      <td>Brian Eko Permadi</td>\n",
       "      <td>'199209232012101001</td>\n",
       "    </tr>\n",
       "    <tr>\n",
       "      <th>14</th>\n",
       "      <td>I Made Sudarmayadnya,  S.Si</td>\n",
       "      <td>I Made Sudarmayadnya</td>\n",
       "      <td>'198103222007011013</td>\n",
       "    </tr>\n",
       "    <tr>\n",
       "      <th>15</th>\n",
       "      <td>Kd. Diana Anggariati, SP</td>\n",
       "      <td>Kd. Diana Anggariati</td>\n",
       "      <td>'196705231990032002</td>\n",
       "    </tr>\n",
       "    <tr>\n",
       "      <th>16</th>\n",
       "      <td>A. A. Putu Eka Putra Wirawan</td>\n",
       "      <td>A. A. Putu Eka Putra Wirawan</td>\n",
       "      <td>'198212232006041002</td>\n",
       "    </tr>\n",
       "  </tbody>\n",
       "</table>\n",
       "</div>"
      ],
      "text/plain": [
       "                                       Nama                         Nama File  \\\n",
       "0                         Ni Wayan Dertiari                 Ni Wayan Dertiari   \n",
       "1                        Tirtha Wijaya,  SP                     Tirtha Wijaya   \n",
       "2            Ni Wayan Budhi Anggraeni,  ST.          Ni Wayan Budhi Anggraeni   \n",
       "3                  Ni Putu Lia Cahyani,  SP               Ni Putu Lia Cahyani   \n",
       "4                     I Wayan Wirata,  S.Tr                    I Wayan Wirata   \n",
       "5                  Kadek Setiya Wati,  S.Tr                 Kadek Setiya Wati   \n",
       "6                   Luh Eka Arisanti,  S.Si                  Luh Eka Arisanti   \n",
       "7                       Diana Hikmah,  S.Tr                      Diana Hikmah   \n",
       "8            Putu Agus Dedy Permana,  S. Tr            Putu Agus Dedy Permana   \n",
       "9                    I Wayan Gita Giriharta            I Wayan Gita Giriharta   \n",
       "10                     I Gede Agus Mahendra              I Gede Agus Mahendra   \n",
       "11  I Gusti Ayu Putu Putri Astiduari,  S.Tr  I Gusti Ayu Putu Putri Astiduari   \n",
       "12                   Wulan Wandarana,  S.Tr                   Wulan Wandarana   \n",
       "13                        Brian Eko Permadi                 Brian Eko Permadi   \n",
       "14              I Made Sudarmayadnya,  S.Si              I Made Sudarmayadnya   \n",
       "15                 Kd. Diana Anggariati, SP              Kd. Diana Anggariati   \n",
       "16             A. A. Putu Eka Putra Wirawan      A. A. Putu Eka Putra Wirawan   \n",
       "\n",
       "                    NIP  \n",
       "0   '196912241990032001  \n",
       "1   '197312051995031001  \n",
       "2   '197804042008012032  \n",
       "3   '198503012007012003  \n",
       "4   '199111062013121001  \n",
       "5   '198906032010122002  \n",
       "6   '198909272010122001  \n",
       "7   '199202132012102001  \n",
       "8   '199308092013121001  \n",
       "9   '199604012016011001  \n",
       "10  '199304282013121001  \n",
       "11  '199308182013121001  \n",
       "12  '199505142014112001  \n",
       "13  '199209232012101001  \n",
       "14  '198103222007011013  \n",
       "15  '196705231990032002  \n",
       "16  '198212232006041002  "
      ]
     },
     "execution_count": 25,
     "metadata": {},
     "output_type": "execute_result"
    }
   ],
   "source": [
    "df"
   ]
  },
  {
   "cell_type": "code",
   "execution_count": 34,
   "metadata": {},
   "outputs": [],
   "source": [
    "df.sort_values(by=['Nama'], ascending=True, inplace=True)"
   ]
  },
  {
   "cell_type": "code",
   "execution_count": 38,
   "metadata": {},
   "outputs": [],
   "source": [
    "try:\n",
    "    name = df.iloc[0]['Nama'].split(',')[0]\n",
    "except:\n",
    "    name = df.iloc[0]['Nama']"
   ]
  },
  {
   "cell_type": "code",
   "execution_count": 39,
   "metadata": {},
   "outputs": [
    {
     "name": "stdout",
     "output_type": "stream",
     "text": [
      "['assets\\\\ttd\\\\A. A. Putu Eka Putra Wirawan.jpg']\n",
      "assets\\ttd\\A. A. Putu Eka Putra Wirawan.jpg\n"
     ]
    }
   ],
   "source": [
    "ttd_image = get_image(find_filename(name))"
   ]
  },
  {
   "cell_type": "code",
   "execution_count": null,
   "metadata": {},
   "outputs": [],
   "source": []
  }
 ],
 "metadata": {
  "kernelspec": {
   "display_name": "Python 3",
   "language": "python",
   "name": "python3"
  },
  "language_info": {
   "codemirror_mode": {
    "name": "ipython",
    "version": 3
   },
   "file_extension": ".py",
   "mimetype": "text/x-python",
   "name": "python",
   "nbconvert_exporter": "python",
   "pygments_lexer": "ipython3",
   "version": "3.10.7"
  },
  "orig_nbformat": 4
 },
 "nbformat": 4,
 "nbformat_minor": 2
}
